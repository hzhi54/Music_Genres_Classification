{
 "cells": [
  {
   "cell_type": "code",
   "execution_count": 30,
   "id": "5ffb67e1",
   "metadata": {},
   "outputs": [],
   "source": [
    "import pandas as pd\n",
    "import numpy as np\n",
    "import librosa\n",
    "import os\n",
    "import matplotlib.pyplot as plt\n",
    "import warnings\n",
    "warnings.filterwarnings('ignore')"
   ]
  },
  {
   "cell_type": "code",
   "execution_count": 162,
   "id": "4b8662da",
   "metadata": {},
   "outputs": [],
   "source": [
    "from sklearn import metrics\n",
    "from sklearn.model_selection import train_test_split\n",
    "from sklearn.model_selection import cross_val_score\n",
    "from sklearn.preprocessing import StandardScaler\n",
    "from sklearn.metrics import accuracy_score\n",
    "from sklearn.metrics import confusion_matrix\n",
    "from sklearn import tree\n",
    "from sklearn.metrics import roc_curve\n",
    "import seaborn as sns\n",
    "from sklearn.metrics import auc\n",
    "from sklearn.metrics import roc_auc_score\n",
    "\n",
    "from sklearn.linear_model import LogisticRegression\n",
    "from sklearn.neighbors import KNeighborsClassifier\n",
    "from sklearn.tree import DecisionTreeClassifier\n",
    "from sklearn.ensemble import RandomForestClassifier\n",
    "from sklearn.naive_bayes import GaussianNB\n",
    "from sklearn.model_selection import GridSearchCV\n",
    "\n",
    "import xgboost as xgb"
   ]
  },
  {
   "cell_type": "code",
   "execution_count": 33,
   "id": "738c6cc9",
   "metadata": {
    "scrolled": true
   },
   "outputs": [],
   "source": [
    "# rootdir = 'data/music/'\n",
    "# offsets = [i for i in range(0,30,3)]\n",
    "# dict_frame = {'chroma_stft':[],\n",
    "#              'chroma_cqt':[],\n",
    "#              'chroma_cens':[],\n",
    "#              'mel_spect':[],\n",
    "#              'rms':[],\n",
    "#              'spectral_centroid':[],\n",
    "#              'spectral_bandwidth':[],\n",
    "#              'spectral_contrast':[],\n",
    "#              'spectral_flastness':[],\n",
    "#              'spectral_rolloff':[],\n",
    "#              'poly_features':[],\n",
    "#              'tonnetz':[],\n",
    "#              'zcr':[],\n",
    "#              'tempogram':[],\n",
    "#               'label':[]}\n",
    "\n",
    "# for i in range(0,20):\n",
    "#     dict_frame['mfcc_{}'.format(i)] = []\n",
    "    \n",
    "# for subdir, dirs, files in os.walk(rootdir):\n",
    "#     files.sort()\n",
    "#     print(files)\n",
    "#     for i in range(1,len(files)):\n",
    "#         for offset in offsets:\n",
    "#             y, sr= librosa.load(rootdir+files[i], offset=offset, duration=3)\n",
    "            \n",
    "#             dict_frame['chroma_stft'].append(librosa.feature.chroma_stft(y=y, sr=sr).ravel().mean())\n",
    "#             dict_frame['chroma_cqt'].append(librosa.feature.chroma_cqt(y=y, sr=sr).ravel().mean())\n",
    "#             dict_frame['chroma_cens'].append(librosa.feature.chroma_cens(y=y, sr=sr).ravel().mean())\n",
    "#             dict_frame['mel_spect'].append(librosa.feature.melspectrogram(y=y, sr=sr).ravel().mean())\n",
    "#             dict_frame['rms'].append(librosa.feature.rms(y=y).ravel().mean())\n",
    "#             dict_frame['spectral_centroid'].append(librosa.feature.spectral_centroid(y=y, sr=sr).ravel().mean())\n",
    "#             dict_frame['spectral_bandwidth'].append(librosa.feature.spectral_bandwidth(y=y, sr=sr).ravel().mean())\n",
    "#             dict_frame['spectral_contrast'].append(librosa.feature.spectral_contrast(y=y, sr=sr).ravel().mean())\n",
    "#             dict_frame['spectral_flastness'].append(librosa.feature.spectral_flatness(y=y).ravel().mean())\n",
    "#             dict_frame['spectral_rolloff'].append(librosa.feature.spectral_rolloff(y=y, sr=sr).ravel().mean())\n",
    "#             dict_frame['poly_features'].append(librosa.feature.poly_features(y=y, sr=sr).ravel().mean())\n",
    "#             dict_frame['tonnetz'].append(librosa.feature.tonnetz(y=y,sr=sr).ravel().mean())\n",
    "#             dict_frame['zcr'].append(librosa.feature.zero_crossing_rate(y=y).ravel().mean())\n",
    "#             dict_frame['tempogram'].append(librosa.feature.tempogram(y=y, sr=sr).ravel().mean())\n",
    "            \n",
    "#             dict_frame['label'].append(files[i].split('.')[0])\n",
    "#             mfccs = librosa.feature.mfcc(y=y, sr=sr, n_mfcc=20)\n",
    "#             for idx, mfcc in enumerate(mfccs):\n",
    "#                 dict_frame['mfcc_{}'.format(idx)].append(mfcc.ravel().mean())\n",
    "        \n",
    "        "
   ]
  },
  {
   "cell_type": "code",
   "execution_count": 34,
   "id": "3dd5ee9b",
   "metadata": {},
   "outputs": [],
   "source": [
    "# df = pd.DataFrame.from_dict(dict_frame)\n",
    "# label = df.pop('label')\n",
    "# df.insert(34,'label',label)\n",
    "# df.to_csv('data.csv')"
   ]
  },
  {
   "cell_type": "code",
   "execution_count": 79,
   "id": "71857ab8",
   "metadata": {},
   "outputs": [],
   "source": [
    "df = pd.read_csv('data/data.csv')"
   ]
  },
  {
   "cell_type": "code",
   "execution_count": 80,
   "id": "a39fcc78",
   "metadata": {},
   "outputs": [],
   "source": [
    "X = np.array(df.iloc[:,1:35])\n",
    "y = np.array(df.label)\n",
    "X_train, X_test, y_train, y_test = train_test_split(X, y, test_size = 0.2, random_state = 28)"
   ]
  },
  {
   "cell_type": "code",
   "execution_count": null,
   "id": "daf6d058",
   "metadata": {},
   "outputs": [],
   "source": []
  },
  {
   "cell_type": "code",
   "execution_count": null,
   "id": "64624de5",
   "metadata": {},
   "outputs": [],
   "source": []
  },
  {
   "cell_type": "markdown",
   "id": "016df836",
   "metadata": {},
   "source": [
    "# Baseline Models"
   ]
  },
  {
   "cell_type": "markdown",
   "id": "b8256343",
   "metadata": {},
   "source": [
    "## Logistic Regression"
   ]
  },
  {
   "cell_type": "code",
   "execution_count": 85,
   "id": "4c3ff0ab",
   "metadata": {},
   "outputs": [],
   "source": [
    "lr = LogisticRegression()\n",
    "lr.fit(X_train, y_train)\n",
    "\n",
    "lr_preds = lr.predict(X_test)\n",
    "# lr_score = lr.predict_proba(X_test)\n",
    "\n",
    "accuracy = metrics.accuracy_score(y_test,lr_preds)\n",
    "precision, recall, fscore, sup = metrics.precision_recall_fscore_support(y_test,lr_preds, average='macro');"
   ]
  },
  {
   "cell_type": "code",
   "execution_count": 86,
   "id": "8e89b2d5",
   "metadata": {},
   "outputs": [
    {
     "name": "stdout",
     "output_type": "stream",
     "text": [
      "Accuracy:  0.3993993993993994\n",
      "Precision:  0.3650692092347456\n",
      "Recall:  0.39811234642867543\n",
      "F1-Score:  0.36408457061510735\n"
     ]
    }
   ],
   "source": [
    "print(\"Accuracy: \", accuracy)\n",
    "print(\"Precision: \", precision)\n",
    "print(\"Recall: \", recall)\n",
    "print(\"F1-Score: \", fscore)"
   ]
  },
  {
   "cell_type": "code",
   "execution_count": 87,
   "id": "c9415f5d",
   "metadata": {},
   "outputs": [
    {
     "data": {
      "text/plain": [
       "<AxesSubplot:>"
      ]
     },
     "execution_count": 87,
     "metadata": {},
     "output_type": "execute_result"
    },
    {
     "data": {
      "image/png": "[encoded data removed]",
      "text/plain": [
       "<Figure size 432x288 with 2 Axes>"
      ]
     },
     "metadata": {
      "needs_background": "light"
     },
     "output_type": "display_data"
    }
   ],
   "source": [
    "# confusion_matrix(y_test,lr_preds)\n",
    "sns.heatmap(confusion_matrix(y_test,lr_preds), annot=True)"
   ]
  },
  {
   "cell_type": "markdown",
   "id": "c6992040",
   "metadata": {},
   "source": [
    "## K-Nearest Neighbor Classification"
   ]
  },
  {
   "cell_type": "code",
   "execution_count": 88,
   "id": "852cd6e3",
   "metadata": {},
   "outputs": [],
   "source": [
    "knn = KNeighborsClassifier(n_neighbors=5)\n",
    "\n",
    "knn.fit(X_train,y_train)\n",
    "knn_preds = knn.predict(X_test)\n",
    "\n",
    "accuracy = metrics.accuracy_score(y_test,knn_preds)\n",
    "precision, recall, fscore, sup = metrics.precision_recall_fscore_support(y_test,knn_preds, average='macro')"
   ]
  },
  {
   "cell_type": "code",
   "execution_count": 89,
   "id": "bc519afd",
   "metadata": {},
   "outputs": [
    {
     "name": "stdout",
     "output_type": "stream",
     "text": [
      "Accuracy:  0.44844844844844844\n",
      "Precision:  0.4350310401899944\n",
      "Recall:  0.44762154655536995\n",
      "F1-Score:  0.4366254009120337\n"
     ]
    }
   ],
   "source": [
    "print(\"Accuracy: \", accuracy)\n",
    "print(\"Precision: \", precision)\n",
    "print(\"Recall: \", recall)\n",
    "print(\"F1-Score: \", fscore)"
   ]
  },
  {
   "cell_type": "code",
   "execution_count": 91,
   "id": "1b4b8e23",
   "metadata": {},
   "outputs": [
    {
     "data": {
      "text/plain": [
       "<AxesSubplot:>"
      ]
     },
     "execution_count": 91,
     "metadata": {},
     "output_type": "execute_result"
    },
    {
     "data": {
      "image/png": "[encoded data removed]",
      "text/plain": [
       "<Figure size 432x288 with 2 Axes>"
      ]
     },
     "metadata": {
      "needs_background": "light"
     },
     "output_type": "display_data"
    }
   ],
   "source": [
    "sns.heatmap(confusion_matrix(y_test,knn_preds), annot=True)"
   ]
  },
  {
   "cell_type": "markdown",
   "id": "dc3da033",
   "metadata": {},
   "source": [
    "## Decision Tree Classifier"
   ]
  },
  {
   "cell_type": "code",
   "execution_count": 92,
   "id": "7fc786b0",
   "metadata": {},
   "outputs": [],
   "source": [
    "dt = DecisionTreeClassifier(criterion='gini', splitter='best', max_depth = 5)\n",
    "\n",
    "dt.fit(X_train,y_train)\n",
    "dt_preds = dt.predict(X_test)\n",
    "\n",
    "accuracy = metrics.accuracy_score(y_test,dt_preds)\n",
    "precision, recall, fscore, sup = metrics.precision_recall_fscore_support(y_test,dt_preds, average='macro')"
   ]
  },
  {
   "cell_type": "code",
   "execution_count": 93,
   "id": "5b39ee4a",
   "metadata": {},
   "outputs": [
    {
     "name": "stdout",
     "output_type": "stream",
     "text": [
      "Accuracy:  0.471971971971972\n",
      "Precision:  0.5165743143118852\n",
      "Recall:  0.4720690379779654\n",
      "F1-Score:  0.4613584293201819\n"
     ]
    }
   ],
   "source": [
    "print(\"Accuracy: \", accuracy)\n",
    "print(\"Precision: \", precision)\n",
    "print(\"Recall: \", recall)\n",
    "print(\"F1-Score: \", fscore)"
   ]
  },
  {
   "cell_type": "code",
   "execution_count": 94,
   "id": "a3a71b23",
   "metadata": {},
   "outputs": [
    {
     "data": {
      "text/plain": [
       "<AxesSubplot:>"
      ]
     },
     "execution_count": 94,
     "metadata": {},
     "output_type": "execute_result"
    },
    {
     "data": {
      "image/png": "[encoded data removed]",
      "text/plain": [
       "<Figure size 432x288 with 2 Axes>"
      ]
     },
     "metadata": {
      "needs_background": "light"
     },
     "output_type": "display_data"
    }
   ],
   "source": [
    "sns.heatmap(confusion_matrix(y_test,dt_preds), annot=True)"
   ]
  },
  {
   "cell_type": "markdown",
   "id": "7e5d7902",
   "metadata": {},
   "source": [
    "## Random Forest"
   ]
  },
  {
   "cell_type": "code",
   "execution_count": 196,
   "id": "e0029939",
   "metadata": {},
   "outputs": [],
   "source": [
    "rf = RandomForestClassifier()\n",
    "\n",
    "rf.fit(X_train,y_train)\n",
    "rf_preds = rf.predict(X_test)\n",
    "\n",
    "accuracy = metrics.accuracy_score(y_test,rf_preds)\n",
    "precision, recall, fscore, sup = metrics.precision_recall_fscore_support(y_test,rf_preds, average='macro')"
   ]
  },
  {
   "cell_type": "code",
   "execution_count": 197,
   "id": "07de1f09",
   "metadata": {},
   "outputs": [
    {
     "name": "stdout",
     "output_type": "stream",
     "text": [
      "Accuracy:  0.8708708708708709\n",
      "Precision:  0.8720508214338416\n",
      "Recall:  0.8706366529999168\n",
      "F1-Score:  0.8699861487780376\n"
     ]
    }
   ],
   "source": [
    "print(\"Accuracy: \", accuracy)\n",
    "print(\"Precision: \", precision)\n",
    "print(\"Recall: \", recall)\n",
    "print(\"F1-Score: \", fscore)"
   ]
  },
  {
   "cell_type": "code",
   "execution_count": 98,
   "id": "98f0b9ee",
   "metadata": {},
   "outputs": [
    {
     "data": {
      "text/plain": [
       "<AxesSubplot:>"
      ]
     },
     "execution_count": 98,
     "metadata": {},
     "output_type": "execute_result"
    },
    {
     "data": {
      "image/png": "[encoded data removed]",
      "text/plain": [
       "<Figure size 432x288 with 2 Axes>"
      ]
     },
     "metadata": {
      "needs_background": "light"
     },
     "output_type": "display_data"
    }
   ],
   "source": [
    "sns.heatmap(confusion_matrix(y_test,rf_preds), annot=True)"
   ]
  },
  {
   "cell_type": "markdown",
   "id": "d787c9b6",
   "metadata": {},
   "source": [
    "## Naive Bayes"
   ]
  },
  {
   "cell_type": "code",
   "execution_count": 200,
   "id": "716386b4",
   "metadata": {},
   "outputs": [],
   "source": [
    "nb_gussian = GaussianNB()\n",
    "\n",
    "nb_gussian.fit(X_train,y_train)\n",
    "nb_gussian_preds = nb_gussian.predict(X_test)\n",
    "\n",
    "accuracy = metrics.accuracy_score(y_test,nb_gussian_preds)\n",
    "precision, recall, fscore, sup = metrics.precision_recall_fscore_support(y_test,nb_gussian_preds, average='macro')"
   ]
  },
  {
   "cell_type": "code",
   "execution_count": 201,
   "id": "c83b5d0f",
   "metadata": {},
   "outputs": [
    {
     "name": "stdout",
     "output_type": "stream",
     "text": [
      "Accuracy:  0.4289289289289289\n",
      "Precision:  0.4126754767019067\n",
      "Recall:  0.4262414948149901\n",
      "F1-Score:  0.38417480465148507\n"
     ]
    }
   ],
   "source": [
    "print(\"Accuracy: \", accuracy)\n",
    "print(\"Precision: \", precision)\n",
    "print(\"Recall: \", recall)\n",
    "print(\"F1-Score: \", fscore)"
   ]
  },
  {
   "cell_type": "code",
   "execution_count": 102,
   "id": "2cdc495b",
   "metadata": {},
   "outputs": [
    {
     "data": {
      "text/plain": [
       "<AxesSubplot:>"
      ]
     },
     "execution_count": 102,
     "metadata": {},
     "output_type": "execute_result"
    },
    {
     "data": {
      "image/png": "[encoded data removed]",
      "text/plain": [
       "<Figure size 432x288 with 2 Axes>"
      ]
     },
     "metadata": {
      "needs_background": "light"
     },
     "output_type": "display_data"
    }
   ],
   "source": [
    "sns.heatmap(confusion_matrix(y_test,nb_gussian_preds), annot=True)"
   ]
  },
  {
   "cell_type": "markdown",
   "id": "40370b0c",
   "metadata": {},
   "source": [
    "# Optimized Models with GridSearchCV"
   ]
  },
  {
   "cell_type": "markdown",
   "id": "3b545528",
   "metadata": {},
   "source": [
    "## Logistic Regression OPT"
   ]
  },
  {
   "cell_type": "code",
   "execution_count": 204,
   "id": "8fc6af8e",
   "metadata": {},
   "outputs": [
    {
     "data": {
      "text/html": [
       "<div>\n",
       "<style scoped>\n",
       "    .dataframe tbody tr th:only-of-type {\n",
       "        vertical-align: middle;\n",
       "    }\n",
       "\n",
       "    .dataframe tbody tr th {\n",
       "        vertical-align: top;\n",
       "    }\n",
       "\n",
       "    .dataframe thead th {\n",
       "        text-align: right;\n",
       "    }\n",
       "</style>\n",
       "<table border=\"1\" class=\"dataframe\">\n",
       "  <thead>\n",
       "    <tr style=\"text-align: right;\">\n",
       "      <th></th>\n",
       "      <th>mean_fit_time</th>\n",
       "      <th>std_fit_time</th>\n",
       "      <th>mean_score_time</th>\n",
       "      <th>std_score_time</th>\n",
       "      <th>param_C</th>\n",
       "      <th>params</th>\n",
       "      <th>split0_test_score</th>\n",
       "      <th>split1_test_score</th>\n",
       "      <th>split2_test_score</th>\n",
       "      <th>split3_test_score</th>\n",
       "      <th>split4_test_score</th>\n",
       "      <th>mean_test_score</th>\n",
       "      <th>std_test_score</th>\n",
       "      <th>rank_test_score</th>\n",
       "    </tr>\n",
       "  </thead>\n",
       "  <tbody>\n",
       "    <tr>\n",
       "      <th>0</th>\n",
       "      <td>0.316603</td>\n",
       "      <td>0.010236</td>\n",
       "      <td>0.001655</td>\n",
       "      <td>0.000020</td>\n",
       "      <td>1</td>\n",
       "      <td>{'C': 1}</td>\n",
       "      <td>0.304805</td>\n",
       "      <td>0.369369</td>\n",
       "      <td>0.331832</td>\n",
       "      <td>0.325325</td>\n",
       "      <td>0.299800</td>\n",
       "      <td>0.326226</td>\n",
       "      <td>0.024701</td>\n",
       "      <td>26</td>\n",
       "    </tr>\n",
       "    <tr>\n",
       "      <th>1</th>\n",
       "      <td>0.318508</td>\n",
       "      <td>0.011234</td>\n",
       "      <td>0.001813</td>\n",
       "      <td>0.000273</td>\n",
       "      <td>2</td>\n",
       "      <td>{'C': 2}</td>\n",
       "      <td>0.308308</td>\n",
       "      <td>0.370871</td>\n",
       "      <td>0.328328</td>\n",
       "      <td>0.317317</td>\n",
       "      <td>0.306807</td>\n",
       "      <td>0.326326</td>\n",
       "      <td>0.023559</td>\n",
       "      <td>23</td>\n",
       "    </tr>\n",
       "    <tr>\n",
       "      <th>2</th>\n",
       "      <td>0.325861</td>\n",
       "      <td>0.005559</td>\n",
       "      <td>0.001936</td>\n",
       "      <td>0.000412</td>\n",
       "      <td>3</td>\n",
       "      <td>{'C': 3}</td>\n",
       "      <td>0.298298</td>\n",
       "      <td>0.370871</td>\n",
       "      <td>0.335836</td>\n",
       "      <td>0.313814</td>\n",
       "      <td>0.293293</td>\n",
       "      <td>0.322422</td>\n",
       "      <td>0.028396</td>\n",
       "      <td>93</td>\n",
       "    </tr>\n",
       "    <tr>\n",
       "      <th>3</th>\n",
       "      <td>0.315677</td>\n",
       "      <td>0.006750</td>\n",
       "      <td>0.001774</td>\n",
       "      <td>0.000244</td>\n",
       "      <td>4</td>\n",
       "      <td>{'C': 4}</td>\n",
       "      <td>0.298298</td>\n",
       "      <td>0.370871</td>\n",
       "      <td>0.339339</td>\n",
       "      <td>0.313313</td>\n",
       "      <td>0.305305</td>\n",
       "      <td>0.325425</td>\n",
       "      <td>0.026632</td>\n",
       "      <td>43</td>\n",
       "    </tr>\n",
       "    <tr>\n",
       "      <th>4</th>\n",
       "      <td>0.312431</td>\n",
       "      <td>0.007788</td>\n",
       "      <td>0.001646</td>\n",
       "      <td>0.000024</td>\n",
       "      <td>5</td>\n",
       "      <td>{'C': 5}</td>\n",
       "      <td>0.299800</td>\n",
       "      <td>0.370370</td>\n",
       "      <td>0.339840</td>\n",
       "      <td>0.315315</td>\n",
       "      <td>0.309810</td>\n",
       "      <td>0.327027</td>\n",
       "      <td>0.025368</td>\n",
       "      <td>19</td>\n",
       "    </tr>\n",
       "  </tbody>\n",
       "</table>\n",
       "</div>"
      ],
      "text/plain": [
       "   mean_fit_time  std_fit_time  mean_score_time  std_score_time param_C  \\\n",
       "0       0.316603      0.010236         0.001655        0.000020       1   \n",
       "1       0.318508      0.011234         0.001813        0.000273       2   \n",
       "2       0.325861      0.005559         0.001936        0.000412       3   \n",
       "3       0.315677      0.006750         0.001774        0.000244       4   \n",
       "4       0.312431      0.007788         0.001646        0.000024       5   \n",
       "\n",
       "     params  split0_test_score  split1_test_score  split2_test_score  \\\n",
       "0  {'C': 1}           0.304805           0.369369           0.331832   \n",
       "1  {'C': 2}           0.308308           0.370871           0.328328   \n",
       "2  {'C': 3}           0.298298           0.370871           0.335836   \n",
       "3  {'C': 4}           0.298298           0.370871           0.339339   \n",
       "4  {'C': 5}           0.299800           0.370370           0.339840   \n",
       "\n",
       "   split3_test_score  split4_test_score  mean_test_score  std_test_score  \\\n",
       "0           0.325325           0.299800         0.326226        0.024701   \n",
       "1           0.317317           0.306807         0.326326        0.023559   \n",
       "2           0.313814           0.293293         0.322422        0.028396   \n",
       "3           0.313313           0.305305         0.325425        0.026632   \n",
       "4           0.315315           0.309810         0.327027        0.025368   \n",
       "\n",
       "   rank_test_score  \n",
       "0               26  \n",
       "1               23  \n",
       "2               93  \n",
       "3               43  \n",
       "4               19  "
      ]
     },
     "execution_count": 204,
     "metadata": {},
     "output_type": "execute_result"
    }
   ],
   "source": [
    "lr_opt = LogisticRegression(C=100, fit_intercept=True)\n",
    "C_range = [i for i in range(1,101)]\n",
    "param_grid = dict(C=C_range)\n",
    "grid = GridSearchCV(lr_opt, param_grid, cv=5, scoring='accuracy')\n",
    "grid.fit(X, y);\n",
    "\n",
    "df_cv = pd.DataFrame(grid.cv_results_)\n",
    "df_cv.head()"
   ]
  },
  {
   "cell_type": "code",
   "execution_count": 205,
   "id": "307dfd63",
   "metadata": {},
   "outputs": [
    {
     "name": "stdout",
     "output_type": "stream",
     "text": [
      "Best params:  {'C': 11}\n",
      "Best estimator:  LogisticRegression(C=11)\n",
      "Best score:  0.3308308308308308\n"
     ]
    }
   ],
   "source": [
    "print(\"Best params: \", grid.best_params_)\n",
    "print(\"Best estimator: \", grid.best_estimator_)\n",
    "print(\"Best score: \", grid.best_score_)"
   ]
  },
  {
   "cell_type": "code",
   "execution_count": 206,
   "id": "089d00a0",
   "metadata": {},
   "outputs": [],
   "source": [
    "lr_opt = LogisticRegression(C=40)\n",
    "lr_opt.fit(X_train, y_train)\n",
    "\n",
    "lr_preds = lr_opt.predict(X_test)\n",
    "# lr_score = lr.predict_proba(X_test)\n",
    "\n",
    "accuracy = metrics.accuracy_score(y_test,lr_preds)\n",
    "precision, recall, fscore, sup = metrics.precision_recall_fscore_support(y_test,lr_preds, average='macro');"
   ]
  },
  {
   "cell_type": "code",
   "execution_count": 207,
   "id": "a573b3f4",
   "metadata": {},
   "outputs": [
    {
     "name": "stdout",
     "output_type": "stream",
     "text": [
      "Accuracy:  0.3958958958958959\n",
      "Precision:  0.35901723378189226\n",
      "Recall:  0.39455176791753216\n",
      "F1-Score:  0.36194719630305994\n"
     ]
    }
   ],
   "source": [
    "print(\"Accuracy: \", accuracy)\n",
    "print(\"Precision: \", precision)\n",
    "print(\"Recall: \", recall)\n",
    "print(\"F1-Score: \", fscore)"
   ]
  },
  {
   "cell_type": "markdown",
   "id": "eee0e874",
   "metadata": {},
   "source": [
    "## K-Nearest Neighbor Classifier OPT"
   ]
  },
  {
   "cell_type": "code",
   "execution_count": 54,
   "id": "343d1b82",
   "metadata": {},
   "outputs": [
    {
     "data": {
      "text/html": [
       "<div>\n",
       "<style scoped>\n",
       "    .dataframe tbody tr th:only-of-type {\n",
       "        vertical-align: middle;\n",
       "    }\n",
       "\n",
       "    .dataframe tbody tr th {\n",
       "        vertical-align: top;\n",
       "    }\n",
       "\n",
       "    .dataframe thead th {\n",
       "        text-align: right;\n",
       "    }\n",
       "</style>\n",
       "<table border=\"1\" class=\"dataframe\">\n",
       "  <thead>\n",
       "    <tr style=\"text-align: right;\">\n",
       "      <th></th>\n",
       "      <th>mean_fit_time</th>\n",
       "      <th>std_fit_time</th>\n",
       "      <th>mean_score_time</th>\n",
       "      <th>std_score_time</th>\n",
       "      <th>param_n_neighbors</th>\n",
       "      <th>params</th>\n",
       "      <th>split0_test_score</th>\n",
       "      <th>split1_test_score</th>\n",
       "      <th>split2_test_score</th>\n",
       "      <th>split3_test_score</th>\n",
       "      <th>split4_test_score</th>\n",
       "      <th>mean_test_score</th>\n",
       "      <th>std_test_score</th>\n",
       "      <th>rank_test_score</th>\n",
       "    </tr>\n",
       "  </thead>\n",
       "  <tbody>\n",
       "    <tr>\n",
       "      <th>0</th>\n",
       "      <td>0.005650</td>\n",
       "      <td>0.000451</td>\n",
       "      <td>0.126648</td>\n",
       "      <td>0.007117</td>\n",
       "      <td>1</td>\n",
       "      <td>{'n_neighbors': 1}</td>\n",
       "      <td>0.265766</td>\n",
       "      <td>0.335836</td>\n",
       "      <td>0.318819</td>\n",
       "      <td>0.275275</td>\n",
       "      <td>0.288288</td>\n",
       "      <td>0.296797</td>\n",
       "      <td>0.026486</td>\n",
       "      <td>29</td>\n",
       "    </tr>\n",
       "    <tr>\n",
       "      <th>1</th>\n",
       "      <td>0.005533</td>\n",
       "      <td>0.000237</td>\n",
       "      <td>0.151258</td>\n",
       "      <td>0.001797</td>\n",
       "      <td>2</td>\n",
       "      <td>{'n_neighbors': 2}</td>\n",
       "      <td>0.271772</td>\n",
       "      <td>0.322823</td>\n",
       "      <td>0.309309</td>\n",
       "      <td>0.271772</td>\n",
       "      <td>0.267768</td>\n",
       "      <td>0.288689</td>\n",
       "      <td>0.022805</td>\n",
       "      <td>30</td>\n",
       "    </tr>\n",
       "    <tr>\n",
       "      <th>2</th>\n",
       "      <td>0.005530</td>\n",
       "      <td>0.000114</td>\n",
       "      <td>0.184890</td>\n",
       "      <td>0.004839</td>\n",
       "      <td>3</td>\n",
       "      <td>{'n_neighbors': 3}</td>\n",
       "      <td>0.293293</td>\n",
       "      <td>0.335335</td>\n",
       "      <td>0.328328</td>\n",
       "      <td>0.285786</td>\n",
       "      <td>0.282282</td>\n",
       "      <td>0.305005</td>\n",
       "      <td>0.022301</td>\n",
       "      <td>28</td>\n",
       "    </tr>\n",
       "    <tr>\n",
       "      <th>3</th>\n",
       "      <td>0.005541</td>\n",
       "      <td>0.000244</td>\n",
       "      <td>0.189901</td>\n",
       "      <td>0.006001</td>\n",
       "      <td>4</td>\n",
       "      <td>{'n_neighbors': 4}</td>\n",
       "      <td>0.298298</td>\n",
       "      <td>0.339840</td>\n",
       "      <td>0.328328</td>\n",
       "      <td>0.289289</td>\n",
       "      <td>0.276777</td>\n",
       "      <td>0.306507</td>\n",
       "      <td>0.023812</td>\n",
       "      <td>27</td>\n",
       "    </tr>\n",
       "    <tr>\n",
       "      <th>4</th>\n",
       "      <td>0.005641</td>\n",
       "      <td>0.000131</td>\n",
       "      <td>0.192160</td>\n",
       "      <td>0.003520</td>\n",
       "      <td>5</td>\n",
       "      <td>{'n_neighbors': 5}</td>\n",
       "      <td>0.300300</td>\n",
       "      <td>0.352853</td>\n",
       "      <td>0.333834</td>\n",
       "      <td>0.294795</td>\n",
       "      <td>0.279279</td>\n",
       "      <td>0.312212</td>\n",
       "      <td>0.027015</td>\n",
       "      <td>25</td>\n",
       "    </tr>\n",
       "  </tbody>\n",
       "</table>\n",
       "</div>"
      ],
      "text/plain": [
       "   mean_fit_time  std_fit_time  mean_score_time  std_score_time  \\\n",
       "0       0.005650      0.000451         0.126648        0.007117   \n",
       "1       0.005533      0.000237         0.151258        0.001797   \n",
       "2       0.005530      0.000114         0.184890        0.004839   \n",
       "3       0.005541      0.000244         0.189901        0.006001   \n",
       "4       0.005641      0.000131         0.192160        0.003520   \n",
       "\n",
       "  param_n_neighbors              params  split0_test_score  split1_test_score  \\\n",
       "0                 1  {'n_neighbors': 1}           0.265766           0.335836   \n",
       "1                 2  {'n_neighbors': 2}           0.271772           0.322823   \n",
       "2                 3  {'n_neighbors': 3}           0.293293           0.335335   \n",
       "3                 4  {'n_neighbors': 4}           0.298298           0.339840   \n",
       "4                 5  {'n_neighbors': 5}           0.300300           0.352853   \n",
       "\n",
       "   split2_test_score  split3_test_score  split4_test_score  mean_test_score  \\\n",
       "0           0.318819           0.275275           0.288288         0.296797   \n",
       "1           0.309309           0.271772           0.267768         0.288689   \n",
       "2           0.328328           0.285786           0.282282         0.305005   \n",
       "3           0.328328           0.289289           0.276777         0.306507   \n",
       "4           0.333834           0.294795           0.279279         0.312212   \n",
       "\n",
       "   std_test_score  rank_test_score  \n",
       "0        0.026486               29  \n",
       "1        0.022805               30  \n",
       "2        0.022301               28  \n",
       "3        0.023812               27  \n",
       "4        0.027015               25  "
      ]
     },
     "execution_count": 54,
     "metadata": {},
     "output_type": "execute_result"
    }
   ],
   "source": [
    "knn = KNeighborsClassifier()\n",
    "k_range = list(range(1, 31))\n",
    "param_grid = dict(n_neighbors=k_range)\n",
    "grid = GridSearchCV(knn, param_grid, cv=5, scoring='accuracy')\n",
    "grid.fit(X, y);\n",
    "\n",
    "df_cv = pd.DataFrame(grid.cv_results_)\n",
    "df_cv.head()"
   ]
  },
  {
   "cell_type": "code",
   "execution_count": 55,
   "id": "5e6a7088",
   "metadata": {},
   "outputs": [
    {
     "name": "stdout",
     "output_type": "stream",
     "text": [
      "Best params:  {'n_neighbors': 23}\n",
      "Best estimator:  KNeighborsClassifier(n_neighbors=23)\n",
      "Best score:  0.3208208208208208\n"
     ]
    }
   ],
   "source": [
    "print(\"Best params: \", grid.best_params_)\n",
    "print(\"Best estimator: \", grid.best_estimator_)\n",
    "print(\"Best score: \", grid.best_score_)"
   ]
  },
  {
   "cell_type": "code",
   "execution_count": 57,
   "id": "da03b81a",
   "metadata": {},
   "outputs": [],
   "source": [
    "knn_opt = KNeighborsClassifier(n_neighbors=23)\n",
    "\n",
    "knn_opt.fit(X_train,y_train)\n",
    "knn_opt_preds = knn_opt.predict(X_test)\n",
    "\n",
    "accuracy = metrics.accuracy_score(y_test,knn_opt_preds)\n",
    "precision, recall, fscore, sup = metrics.precision_recall_fscore_support(y_test,knn_opt_preds, average='macro')"
   ]
  },
  {
   "cell_type": "code",
   "execution_count": 58,
   "id": "5c2dae98",
   "metadata": {},
   "outputs": [
    {
     "name": "stdout",
     "output_type": "stream",
     "text": [
      "Accuracy:  0.4219219219219219\n",
      "Precision:  0.39380545687439783\n",
      "Recall:  0.42048405629644076\n",
      "F1-Score:  0.3990452094650813\n"
     ]
    }
   ],
   "source": [
    "print(\"Accuracy: \", accuracy)\n",
    "print(\"Precision: \", precision)\n",
    "print(\"Recall: \", recall)\n",
    "print(\"F1-Score: \", fscore)"
   ]
  },
  {
   "cell_type": "markdown",
   "id": "7a6b4475",
   "metadata": {},
   "source": [
    "## Decision Tree Classifier OPT"
   ]
  },
  {
   "cell_type": "code",
   "execution_count": 59,
   "id": "64cf0ee0",
   "metadata": {
    "scrolled": true
   },
   "outputs": [
    {
     "data": {
      "text/html": [
       "<div>\n",
       "<style scoped>\n",
       "    .dataframe tbody tr th:only-of-type {\n",
       "        vertical-align: middle;\n",
       "    }\n",
       "\n",
       "    .dataframe tbody tr th {\n",
       "        vertical-align: top;\n",
       "    }\n",
       "\n",
       "    .dataframe thead th {\n",
       "        text-align: right;\n",
       "    }\n",
       "</style>\n",
       "<table border=\"1\" class=\"dataframe\">\n",
       "  <thead>\n",
       "    <tr style=\"text-align: right;\">\n",
       "      <th></th>\n",
       "      <th>mean_fit_time</th>\n",
       "      <th>std_fit_time</th>\n",
       "      <th>mean_score_time</th>\n",
       "      <th>std_score_time</th>\n",
       "      <th>param_criterion</th>\n",
       "      <th>param_max_depth</th>\n",
       "      <th>param_min_samples_split</th>\n",
       "      <th>param_splitter</th>\n",
       "      <th>params</th>\n",
       "      <th>split0_test_score</th>\n",
       "      <th>split1_test_score</th>\n",
       "      <th>split2_test_score</th>\n",
       "      <th>split3_test_score</th>\n",
       "      <th>split4_test_score</th>\n",
       "      <th>mean_test_score</th>\n",
       "      <th>std_test_score</th>\n",
       "      <th>rank_test_score</th>\n",
       "    </tr>\n",
       "  </thead>\n",
       "  <tbody>\n",
       "    <tr>\n",
       "      <th>0</th>\n",
       "      <td>0.029741</td>\n",
       "      <td>0.007204</td>\n",
       "      <td>0.001259</td>\n",
       "      <td>0.000246</td>\n",
       "      <td>gini</td>\n",
       "      <td>1</td>\n",
       "      <td>2</td>\n",
       "      <td>best</td>\n",
       "      <td>{'criterion': 'gini', 'max_depth': 1, 'min_sam...</td>\n",
       "      <td>0.155097</td>\n",
       "      <td>0.155722</td>\n",
       "      <td>0.188360</td>\n",
       "      <td>0.185857</td>\n",
       "      <td>0.183980</td>\n",
       "      <td>0.173803</td>\n",
       "      <td>0.015084</td>\n",
       "      <td>374</td>\n",
       "    </tr>\n",
       "    <tr>\n",
       "      <th>1</th>\n",
       "      <td>0.005445</td>\n",
       "      <td>0.000152</td>\n",
       "      <td>0.001031</td>\n",
       "      <td>0.000012</td>\n",
       "      <td>gini</td>\n",
       "      <td>1</td>\n",
       "      <td>2</td>\n",
       "      <td>random</td>\n",
       "      <td>{'criterion': 'gini', 'max_depth': 1, 'min_sam...</td>\n",
       "      <td>0.168230</td>\n",
       "      <td>0.189493</td>\n",
       "      <td>0.182103</td>\n",
       "      <td>0.183980</td>\n",
       "      <td>0.139549</td>\n",
       "      <td>0.172671</td>\n",
       "      <td>0.017981</td>\n",
       "      <td>379</td>\n",
       "    </tr>\n",
       "    <tr>\n",
       "      <th>2</th>\n",
       "      <td>0.025068</td>\n",
       "      <td>0.000076</td>\n",
       "      <td>0.001041</td>\n",
       "      <td>0.000010</td>\n",
       "      <td>gini</td>\n",
       "      <td>1</td>\n",
       "      <td>4</td>\n",
       "      <td>best</td>\n",
       "      <td>{'criterion': 'gini', 'max_depth': 1, 'min_sam...</td>\n",
       "      <td>0.155097</td>\n",
       "      <td>0.155722</td>\n",
       "      <td>0.188360</td>\n",
       "      <td>0.185857</td>\n",
       "      <td>0.183980</td>\n",
       "      <td>0.173803</td>\n",
       "      <td>0.015084</td>\n",
       "      <td>374</td>\n",
       "    </tr>\n",
       "    <tr>\n",
       "      <th>3</th>\n",
       "      <td>0.005353</td>\n",
       "      <td>0.000077</td>\n",
       "      <td>0.001039</td>\n",
       "      <td>0.000013</td>\n",
       "      <td>gini</td>\n",
       "      <td>1</td>\n",
       "      <td>4</td>\n",
       "      <td>random</td>\n",
       "      <td>{'criterion': 'gini', 'max_depth': 1, 'min_sam...</td>\n",
       "      <td>0.150719</td>\n",
       "      <td>0.185116</td>\n",
       "      <td>0.186483</td>\n",
       "      <td>0.170839</td>\n",
       "      <td>0.185232</td>\n",
       "      <td>0.175678</td>\n",
       "      <td>0.013736</td>\n",
       "      <td>373</td>\n",
       "    </tr>\n",
       "    <tr>\n",
       "      <th>4</th>\n",
       "      <td>0.026299</td>\n",
       "      <td>0.000504</td>\n",
       "      <td>0.001344</td>\n",
       "      <td>0.000145</td>\n",
       "      <td>gini</td>\n",
       "      <td>1</td>\n",
       "      <td>6</td>\n",
       "      <td>best</td>\n",
       "      <td>{'criterion': 'gini', 'max_depth': 1, 'min_sam...</td>\n",
       "      <td>0.155097</td>\n",
       "      <td>0.155722</td>\n",
       "      <td>0.188360</td>\n",
       "      <td>0.185857</td>\n",
       "      <td>0.183980</td>\n",
       "      <td>0.173803</td>\n",
       "      <td>0.015084</td>\n",
       "      <td>374</td>\n",
       "    </tr>\n",
       "  </tbody>\n",
       "</table>\n",
       "</div>"
      ],
      "text/plain": [
       "   mean_fit_time  std_fit_time  mean_score_time  std_score_time  \\\n",
       "0       0.029741      0.007204         0.001259        0.000246   \n",
       "1       0.005445      0.000152         0.001031        0.000012   \n",
       "2       0.025068      0.000076         0.001041        0.000010   \n",
       "3       0.005353      0.000077         0.001039        0.000013   \n",
       "4       0.026299      0.000504         0.001344        0.000145   \n",
       "\n",
       "  param_criterion param_max_depth param_min_samples_split param_splitter  \\\n",
       "0            gini               1                       2           best   \n",
       "1            gini               1                       2         random   \n",
       "2            gini               1                       4           best   \n",
       "3            gini               1                       4         random   \n",
       "4            gini               1                       6           best   \n",
       "\n",
       "                                              params  split0_test_score  \\\n",
       "0  {'criterion': 'gini', 'max_depth': 1, 'min_sam...           0.155097   \n",
       "1  {'criterion': 'gini', 'max_depth': 1, 'min_sam...           0.168230   \n",
       "2  {'criterion': 'gini', 'max_depth': 1, 'min_sam...           0.155097   \n",
       "3  {'criterion': 'gini', 'max_depth': 1, 'min_sam...           0.150719   \n",
       "4  {'criterion': 'gini', 'max_depth': 1, 'min_sam...           0.155097   \n",
       "\n",
       "   split1_test_score  split2_test_score  split3_test_score  split4_test_score  \\\n",
       "0           0.155722           0.188360           0.185857           0.183980   \n",
       "1           0.189493           0.182103           0.183980           0.139549   \n",
       "2           0.155722           0.188360           0.185857           0.183980   \n",
       "3           0.185116           0.186483           0.170839           0.185232   \n",
       "4           0.155722           0.188360           0.185857           0.183980   \n",
       "\n",
       "   mean_test_score  std_test_score  rank_test_score  \n",
       "0         0.173803        0.015084              374  \n",
       "1         0.172671        0.017981              379  \n",
       "2         0.173803        0.015084              374  \n",
       "3         0.175678        0.013736              373  \n",
       "4         0.173803        0.015084              374  "
      ]
     },
     "execution_count": 59,
     "metadata": {},
     "output_type": "execute_result"
    }
   ],
   "source": [
    "dt_opt = dt = DecisionTreeClassifier()\n",
    "criterions = ['gini', 'entropy']\n",
    "splitters = ['best', 'random']\n",
    "max_depth_range = list(range(1, 20))\n",
    "min_samples_split_range = [2, 4, 6, 8, 10]\n",
    "\n",
    "param_grid = dict(criterion=criterions,\n",
    "                    splitter=splitters,\n",
    "                    max_depth=max_depth_range,\n",
    "                    min_samples_split=min_samples_split_range\n",
    ")\n",
    "\n",
    "dt_grid = GridSearchCV(dt_opt, param_grid)\n",
    "dt_grid.fit(X_train, y_train)\n",
    "\n",
    "df_cv = pd.DataFrame(dt_grid.cv_results_)\n",
    "df_cv.head()"
   ]
  },
  {
   "cell_type": "code",
   "execution_count": 60,
   "id": "94d81240",
   "metadata": {},
   "outputs": [
    {
     "name": "stdout",
     "output_type": "stream",
     "text": [
      "Best params:  {'criterion': 'entropy', 'max_depth': 16, 'min_samples_split': 2, 'splitter': 'best'}\n",
      "Best estimator:  DecisionTreeClassifier(criterion='entropy', max_depth=16)\n",
      "Best score:  0.6293779513322234\n"
     ]
    }
   ],
   "source": [
    "print(\"Best params: \", dt_grid.best_params_)\n",
    "print(\"Best estimator: \", dt_grid.best_estimator_)\n",
    "print(\"Best score: \", dt_grid.best_score_)"
   ]
  },
  {
   "cell_type": "code",
   "execution_count": 179,
   "id": "76e26aad",
   "metadata": {},
   "outputs": [],
   "source": [
    "dt_opt = DecisionTreeClassifier(criterion='entropy', splitter='best', max_depth = 16, min_samples_split = 2)\n",
    "\n",
    "dt_opt.fit(X_train,y_train)\n",
    "dt_preds = dt_opt.predict(X_test)\n",
    "\n",
    "accuracy = metrics.accuracy_score(y_test,dt_preds)\n",
    "precision, recall, fscore, sup = metrics.precision_recall_fscore_support(y_test,dt_preds, average='macro')"
   ]
  },
  {
   "cell_type": "code",
   "execution_count": 180,
   "id": "7c0ec0b9",
   "metadata": {},
   "outputs": [
    {
     "name": "stdout",
     "output_type": "stream",
     "text": [
      "Accuracy:  0.6701701701701702\n",
      "Precision:  0.6724747360440102\n",
      "Recall:  0.6694171141804354\n",
      "F1-Score:  0.6699824332785178\n"
     ]
    }
   ],
   "source": [
    "print(\"Accuracy: \", accuracy)\n",
    "print(\"Precision: \", precision)\n",
    "print(\"Recall: \", recall)\n",
    "print(\"F1-Score: \", fscore)"
   ]
  },
  {
   "cell_type": "markdown",
   "id": "d3f33acd",
   "metadata": {},
   "source": [
    "## Random Forest OPT"
   ]
  },
  {
   "cell_type": "code",
   "execution_count": 63,
   "id": "711d1e85",
   "metadata": {},
   "outputs": [
    {
     "data": {
      "text/html": [
       "<div>\n",
       "<style scoped>\n",
       "    .dataframe tbody tr th:only-of-type {\n",
       "        vertical-align: middle;\n",
       "    }\n",
       "\n",
       "    .dataframe tbody tr th {\n",
       "        vertical-align: top;\n",
       "    }\n",
       "\n",
       "    .dataframe thead th {\n",
       "        text-align: right;\n",
       "    }\n",
       "</style>\n",
       "<table border=\"1\" class=\"dataframe\">\n",
       "  <thead>\n",
       "    <tr style=\"text-align: right;\">\n",
       "      <th></th>\n",
       "      <th>mean_fit_time</th>\n",
       "      <th>std_fit_time</th>\n",
       "      <th>mean_score_time</th>\n",
       "      <th>std_score_time</th>\n",
       "      <th>param_criterion</th>\n",
       "      <th>param_max_depth</th>\n",
       "      <th>param_min_samples_split</th>\n",
       "      <th>params</th>\n",
       "      <th>split0_test_score</th>\n",
       "      <th>split1_test_score</th>\n",
       "      <th>split2_test_score</th>\n",
       "      <th>split3_test_score</th>\n",
       "      <th>split4_test_score</th>\n",
       "      <th>mean_test_score</th>\n",
       "      <th>std_test_score</th>\n",
       "      <th>rank_test_score</th>\n",
       "    </tr>\n",
       "  </thead>\n",
       "  <tbody>\n",
       "    <tr>\n",
       "      <th>0</th>\n",
       "      <td>0.324163</td>\n",
       "      <td>0.011124</td>\n",
       "      <td>0.010923</td>\n",
       "      <td>0.000244</td>\n",
       "      <td>gini</td>\n",
       "      <td>1</td>\n",
       "      <td>2</td>\n",
       "      <td>{'criterion': 'gini', 'max_depth': 1, 'min_sam...</td>\n",
       "      <td>0.350844</td>\n",
       "      <td>0.334584</td>\n",
       "      <td>0.347935</td>\n",
       "      <td>0.322904</td>\n",
       "      <td>0.311014</td>\n",
       "      <td>0.333456</td>\n",
       "      <td>0.015022</td>\n",
       "      <td>23</td>\n",
       "    </tr>\n",
       "    <tr>\n",
       "      <th>1</th>\n",
       "      <td>0.494337</td>\n",
       "      <td>0.004547</td>\n",
       "      <td>0.011679</td>\n",
       "      <td>0.000065</td>\n",
       "      <td>gini</td>\n",
       "      <td>2</td>\n",
       "      <td>2</td>\n",
       "      <td>{'criterion': 'gini', 'max_depth': 2, 'min_sam...</td>\n",
       "      <td>0.357724</td>\n",
       "      <td>0.375235</td>\n",
       "      <td>0.371715</td>\n",
       "      <td>0.382979</td>\n",
       "      <td>0.352941</td>\n",
       "      <td>0.368119</td>\n",
       "      <td>0.011161</td>\n",
       "      <td>21</td>\n",
       "    </tr>\n",
       "    <tr>\n",
       "      <th>2</th>\n",
       "      <td>0.667815</td>\n",
       "      <td>0.003620</td>\n",
       "      <td>0.012725</td>\n",
       "      <td>0.000036</td>\n",
       "      <td>gini</td>\n",
       "      <td>3</td>\n",
       "      <td>2</td>\n",
       "      <td>{'criterion': 'gini', 'max_depth': 3, 'min_sam...</td>\n",
       "      <td>0.443402</td>\n",
       "      <td>0.435272</td>\n",
       "      <td>0.423029</td>\n",
       "      <td>0.451815</td>\n",
       "      <td>0.423655</td>\n",
       "      <td>0.435434</td>\n",
       "      <td>0.011176</td>\n",
       "      <td>19</td>\n",
       "    </tr>\n",
       "    <tr>\n",
       "      <th>3</th>\n",
       "      <td>0.834839</td>\n",
       "      <td>0.004075</td>\n",
       "      <td>0.013853</td>\n",
       "      <td>0.000031</td>\n",
       "      <td>gini</td>\n",
       "      <td>4</td>\n",
       "      <td>2</td>\n",
       "      <td>{'criterion': 'gini', 'max_depth': 4, 'min_sam...</td>\n",
       "      <td>0.507817</td>\n",
       "      <td>0.510319</td>\n",
       "      <td>0.504380</td>\n",
       "      <td>0.508761</td>\n",
       "      <td>0.516270</td>\n",
       "      <td>0.509510</td>\n",
       "      <td>0.003901</td>\n",
       "      <td>17</td>\n",
       "    </tr>\n",
       "    <tr>\n",
       "      <th>4</th>\n",
       "      <td>0.992539</td>\n",
       "      <td>0.001083</td>\n",
       "      <td>0.014989</td>\n",
       "      <td>0.000083</td>\n",
       "      <td>gini</td>\n",
       "      <td>5</td>\n",
       "      <td>2</td>\n",
       "      <td>{'criterion': 'gini', 'max_depth': 5, 'min_sam...</td>\n",
       "      <td>0.565353</td>\n",
       "      <td>0.564103</td>\n",
       "      <td>0.550063</td>\n",
       "      <td>0.583229</td>\n",
       "      <td>0.583855</td>\n",
       "      <td>0.569320</td>\n",
       "      <td>0.012795</td>\n",
       "      <td>15</td>\n",
       "    </tr>\n",
       "  </tbody>\n",
       "</table>\n",
       "</div>"
      ],
      "text/plain": [
       "   mean_fit_time  std_fit_time  mean_score_time  std_score_time  \\\n",
       "0       0.324163      0.011124         0.010923        0.000244   \n",
       "1       0.494337      0.004547         0.011679        0.000065   \n",
       "2       0.667815      0.003620         0.012725        0.000036   \n",
       "3       0.834839      0.004075         0.013853        0.000031   \n",
       "4       0.992539      0.001083         0.014989        0.000083   \n",
       "\n",
       "  param_criterion param_max_depth param_min_samples_split  \\\n",
       "0            gini               1                       2   \n",
       "1            gini               2                       2   \n",
       "2            gini               3                       2   \n",
       "3            gini               4                       2   \n",
       "4            gini               5                       2   \n",
       "\n",
       "                                              params  split0_test_score  \\\n",
       "0  {'criterion': 'gini', 'max_depth': 1, 'min_sam...           0.350844   \n",
       "1  {'criterion': 'gini', 'max_depth': 2, 'min_sam...           0.357724   \n",
       "2  {'criterion': 'gini', 'max_depth': 3, 'min_sam...           0.443402   \n",
       "3  {'criterion': 'gini', 'max_depth': 4, 'min_sam...           0.507817   \n",
       "4  {'criterion': 'gini', 'max_depth': 5, 'min_sam...           0.565353   \n",
       "\n",
       "   split1_test_score  split2_test_score  split3_test_score  split4_test_score  \\\n",
       "0           0.334584           0.347935           0.322904           0.311014   \n",
       "1           0.375235           0.371715           0.382979           0.352941   \n",
       "2           0.435272           0.423029           0.451815           0.423655   \n",
       "3           0.510319           0.504380           0.508761           0.516270   \n",
       "4           0.564103           0.550063           0.583229           0.583855   \n",
       "\n",
       "   mean_test_score  std_test_score  rank_test_score  \n",
       "0         0.333456        0.015022               23  \n",
       "1         0.368119        0.011161               21  \n",
       "2         0.435434        0.011176               19  \n",
       "3         0.509510        0.003901               17  \n",
       "4         0.569320        0.012795               15  "
      ]
     },
     "execution_count": 63,
     "metadata": {},
     "output_type": "execute_result"
    }
   ],
   "source": [
    "rf_opt = RandomForestClassifier()\n",
    "\n",
    "criterions = ['gini', 'entropy']\n",
    "max_depth_range = list(range(1, 13))\n",
    "\n",
    "param_grid = dict(criterion=criterions,\n",
    "                  max_depth=max_depth_range,\n",
    "                  min_samples_split=[2]\n",
    ")\n",
    "\n",
    "rf_grid = GridSearchCV(rf_opt, param_grid)\n",
    "rf_grid.fit(X_train, y_train)\n",
    "\n",
    "df_cv = pd.DataFrame(rf_grid.cv_results_)\n",
    "df_cv.head()"
   ]
  },
  {
   "cell_type": "code",
   "execution_count": 64,
   "id": "3558780c",
   "metadata": {},
   "outputs": [
    {
     "name": "stdout",
     "output_type": "stream",
     "text": [
      "Best params:  {'criterion': 'entropy', 'max_depth': 12, 'min_samples_split': 2}\n",
      "Best estimator:  RandomForestClassifier(criterion='entropy', max_depth=12)\n",
      "Best score:  0.8369616961790104\n"
     ]
    }
   ],
   "source": [
    "print(\"Best params: \", rf_grid.best_params_)\n",
    "print(\"Best estimator: \", rf_grid.best_estimator_)\n",
    "print(\"Best score: \", rf_grid.best_score_)"
   ]
  },
  {
   "cell_type": "code",
   "execution_count": 65,
   "id": "8d5df43a",
   "metadata": {},
   "outputs": [],
   "source": [
    "rf_opt = RandomForestClassifier(criterion='entropy', max_depth = 12, min_samples_split = 2)\n",
    "\n",
    "rf_opt.fit(X_train,y_train)\n",
    "rf_opt_preds = rf_opt.predict(X_test)\n",
    "\n",
    "accuracy = metrics.accuracy_score(y_test,rf_opt_preds)\n",
    "precision, recall, fscore, sup = metrics.precision_recall_fscore_support(y_test,rf_opt_preds, average='macro')"
   ]
  },
  {
   "cell_type": "code",
   "execution_count": 66,
   "id": "389dff04",
   "metadata": {},
   "outputs": [
    {
     "name": "stdout",
     "output_type": "stream",
     "text": [
      "Accuracy:  0.8523523523523524\n",
      "Precision:  0.8539081940405809\n",
      "Recall:  0.8517536499983756\n",
      "F1-Score:  0.8510805373239545\n"
     ]
    }
   ],
   "source": [
    "print(\"Accuracy: \", accuracy)\n",
    "print(\"Precision: \", precision)\n",
    "print(\"Recall: \", recall)\n",
    "print(\"F1-Score: \", fscore)"
   ]
  },
  {
   "cell_type": "markdown",
   "id": "3025d169",
   "metadata": {},
   "source": [
    "## XGBoost"
   ]
  },
  {
   "cell_type": "code",
   "execution_count": 67,
   "id": "dc82ddf4",
   "metadata": {},
   "outputs": [],
   "source": [
    "gbm = xgb.XGBClassifier( \n",
    "                        n_estimators=30000,\n",
    "                        max_depth=12,\n",
    "                        learning_rate=.05, \n",
    "                        subsample=.8,\n",
    "                        min_child_weight=3,\n",
    "                        colsample_bytree=.8\n",
    "                       )\n",
    "\n",
    "eval_set=[(X_train,y_train),(X_test,y_test)]\n",
    "fit_model = gbm.fit( \n",
    "                    X_train, y_train, \n",
    "                    eval_set=eval_set,\n",
    "                    eval_metric='merror', \n",
    "                    early_stopping_rounds=50,\n",
    "                    verbose=False\n",
    "                   )\n",
    "\n",
    "accuracy = accuracy_score(y_test, gbm.predict(X_test, ntree_limit=gbm.best_ntree_limit))"
   ]
  },
  {
   "cell_type": "code",
   "execution_count": 68,
   "id": "5aacbaf6",
   "metadata": {},
   "outputs": [
    {
     "name": "stdout",
     "output_type": "stream",
     "text": [
      "Accuracy:  0.8883883883883884\n"
     ]
    }
   ],
   "source": [
    "print(\"Accuracy: \", accuracy)"
   ]
  },
  {
   "cell_type": "markdown",
   "id": "cfab0547",
   "metadata": {},
   "source": [
    "# ROC AUC Score"
   ]
  },
  {
   "cell_type": "code",
   "execution_count": 208,
   "id": "dc40cefa",
   "metadata": {},
   "outputs": [
    {
     "name": "stdout",
     "output_type": "stream",
     "text": [
      "Logistic Regression AUC Score: 0.8120524637118794\n",
      "Logistic Regression OPT AUC Score: 0.8101465907508096\n",
      "KNN Classifier AUC Score: 0.8048048694914398\n",
      "KNN Classifier OPT AUC Score: 0.8369425992013945\n",
      "Decision Tree Classifier AUC Score: 0.8436607145028667\n",
      "Decision Tree Classifier OPT AUC Score: 0.8165958776315916\n",
      "Random Forest AUC Score: 0.9881052195891573\n",
      "Random Forest AUC Score: 0.9854689483011212\n",
      "Naive Bayes Model AUC Score: 0.8496131784529851\n",
      "XGBoost Model AUC Score: 0.991102219822633\n"
     ]
    },
    {
     "data": {
      "text/plain": [
       "<Figure size 720x432 with 0 Axes>"
      ]
     },
     "metadata": {},
     "output_type": "display_data"
    }
   ],
   "source": [
    "plt.figure(figsize=(10,6))\n",
    "lw = 2\n",
    "\n",
    "# Logistic Regression\n",
    "lr_score = lr.predict_proba(X_test)\n",
    "auc_lr = roc_auc_score(y_test, lr_score, multi_class=\"ovr\")\n",
    "print(\"Logistic Regression AUC Score:\", auc_lr)\n",
    "\n",
    "# Logistic Regression OPT\n",
    "lr_score = lr_opt.predict_proba(X_test)\n",
    "auc_lr = roc_auc_score(y_test, lr_score, multi_class=\"ovr\")\n",
    "print(\"Logistic Regression OPT AUC Score:\", auc_lr)\n",
    "\n",
    "# KNN \n",
    "knn_score = knn.predict_proba(X_test)\n",
    "auc_lr = roc_auc_score(y_test, knn_score, multi_class=\"ovr\")\n",
    "print(\"KNN Classifier AUC Score:\", auc_lr)\n",
    "\n",
    "# KNN OPT\n",
    "knn_score = knn_opt.predict_proba(X_test)\n",
    "auc_lr = roc_auc_score(y_test, knn_score, multi_class=\"ovr\")\n",
    "print(\"KNN Classifier OPT AUC Score:\", auc_lr)\n",
    "\n",
    "# Decision Tree \n",
    "dt_score = dt.predict_proba(X_test)\n",
    "auc_lr = roc_auc_score(y_test, dt_score, multi_class=\"ovr\")\n",
    "print(\"Decision Tree Classifier AUC Score:\", auc_lr)\n",
    "\n",
    "# Decision Tree \n",
    "dt_score = dt_opt.predict_proba(X_test)\n",
    "auc_lr = roc_auc_score(y_test, dt_score, multi_class=\"ovr\")\n",
    "print(\"Decision Tree Classifier OPT AUC Score:\", auc_lr)\n",
    "\n",
    "# Random Forest\n",
    "rf_score = rf.predict_proba(X_test)\n",
    "auc_lr = roc_auc_score(y_test, rf_score, multi_class=\"ovr\")\n",
    "print(\"Random Forest AUC Score:\", auc_lr)\n",
    "\n",
    "# Random Forest\n",
    "rf_score = rf_opt.predict_proba(X_test)\n",
    "auc_lr = roc_auc_score(y_test, rf_score, multi_class=\"ovr\")\n",
    "print(\"Random Forest OPT AUC Score:\", auc_lr)\n",
    "\n",
    "# Navie Bayes Model\n",
    "nb_gussian_score = nb_gussian.predict_proba(X_test)\n",
    "auc_lr = roc_auc_score(y_test, nb_gussian_score, multi_class=\"ovr\")\n",
    "print(\"Naive Bayes Model AUC Score:\", auc_lr)\n",
    "\n",
    "# XGBoost Model\n",
    "gbm_score = gbm.predict_proba(X_test)\n",
    "auc_lr = roc_auc_score(y_test, gbm_score, multi_class=\"ovr\")\n",
    "print(\"XGBoost Model AUC Score:\", auc_lr)"
   ]
  },
  {
   "cell_type": "markdown",
   "id": "0482b386",
   "metadata": {},
   "source": [
    "# Summary"
   ]
  },
  {
   "cell_type": "code",
   "execution_count": 210,
   "id": "027cdab3",
   "metadata": {},
   "outputs": [],
   "source": [
    "summary = {\n",
    "    'Metrics':['Accuracy', 'ROC AUC Score'],\n",
    "    'Logistic Regression':[0.3993993993993994, 0.8101465907508096],\n",
    "    'KNN Classification':[0.44844844844844844, 0.8369425992013945],\n",
    "    'Decision Tree Classifier':[0.471971971971972, 0.8165958776315916],\n",
    "    'Random Forest Model':[0.8108708708708709, 0.9854689483011212],\n",
    "    'Naive Bayes Model':[0.4289289289289289, 0.8496131784529851],\n",
    "    'LR Optimized':[0.3958958958958959, 0.8101465907508096],\n",
    "    'KNN Optimized':[0.4219219219219219, 0.8369425992013945],\n",
    "    'Decision Tree Optimized':[0.6701701701701702, 0.8165958776315916],\n",
    "    'Random Forest Optimized':[0.8523523523523524, 0.9854689483011212],\n",
    "    'XGBoost Model':[0.8883883883883884, 0.991102219822633]\n",
    "}\n",
    "\n",
    "sum_df = pd.DataFrame.from_dict(summary)"
   ]
  },
  {
   "cell_type": "code",
   "execution_count": 212,
   "id": "b6b38e4b",
   "metadata": {},
   "outputs": [
    {
     "data": {
      "text/html": [
       "<div>\n",
       "<style scoped>\n",
       "    .dataframe tbody tr th:only-of-type {\n",
       "        vertical-align: middle;\n",
       "    }\n",
       "\n",
       "    .dataframe tbody tr th {\n",
       "        vertical-align: top;\n",
       "    }\n",
       "\n",
       "    .dataframe thead th {\n",
       "        text-align: right;\n",
       "    }\n",
       "</style>\n",
       "<table border=\"1\" class=\"dataframe\">\n",
       "  <thead>\n",
       "    <tr style=\"text-align: right;\">\n",
       "      <th></th>\n",
       "      <th>0</th>\n",
       "      <th>1</th>\n",
       "    </tr>\n",
       "  </thead>\n",
       "  <tbody>\n",
       "    <tr>\n",
       "      <th>Metrics</th>\n",
       "      <td>Accuracy</td>\n",
       "      <td>ROC AUC Score</td>\n",
       "    </tr>\n",
       "    <tr>\n",
       "      <th>Logistic Regression</th>\n",
       "      <td>0.399399</td>\n",
       "      <td>0.810147</td>\n",
       "    </tr>\n",
       "    <tr>\n",
       "      <th>KNN Classification</th>\n",
       "      <td>0.448448</td>\n",
       "      <td>0.836943</td>\n",
       "    </tr>\n",
       "    <tr>\n",
       "      <th>Decision Tree Classifier</th>\n",
       "      <td>0.471972</td>\n",
       "      <td>0.816596</td>\n",
       "    </tr>\n",
       "    <tr>\n",
       "      <th>Random Forest Model</th>\n",
       "      <td>0.810871</td>\n",
       "      <td>0.985469</td>\n",
       "    </tr>\n",
       "    <tr>\n",
       "      <th>Naive Bayes Model</th>\n",
       "      <td>0.428929</td>\n",
       "      <td>0.849613</td>\n",
       "    </tr>\n",
       "    <tr>\n",
       "      <th>LR Optimized</th>\n",
       "      <td>0.395896</td>\n",
       "      <td>0.810147</td>\n",
       "    </tr>\n",
       "    <tr>\n",
       "      <th>KNN Optimized</th>\n",
       "      <td>0.421922</td>\n",
       "      <td>0.836943</td>\n",
       "    </tr>\n",
       "    <tr>\n",
       "      <th>Decision Tree Optimized</th>\n",
       "      <td>0.67017</td>\n",
       "      <td>0.816596</td>\n",
       "    </tr>\n",
       "    <tr>\n",
       "      <th>Random Forest Optimized</th>\n",
       "      <td>0.852352</td>\n",
       "      <td>0.985469</td>\n",
       "    </tr>\n",
       "    <tr>\n",
       "      <th>XGBoost Model</th>\n",
       "      <td>0.888388</td>\n",
       "      <td>0.991102</td>\n",
       "    </tr>\n",
       "  </tbody>\n",
       "</table>\n",
       "</div>"
      ],
      "text/plain": [
       "                                 0              1\n",
       "Metrics                   Accuracy  ROC AUC Score\n",
       "Logistic Regression       0.399399       0.810147\n",
       "KNN Classification        0.448448       0.836943\n",
       "Decision Tree Classifier  0.471972       0.816596\n",
       "Random Forest Model       0.810871       0.985469\n",
       "Naive Bayes Model         0.428929       0.849613\n",
       "LR Optimized              0.395896       0.810147\n",
       "KNN Optimized             0.421922       0.836943\n",
       "Decision Tree Optimized    0.67017       0.816596\n",
       "Random Forest Optimized   0.852352       0.985469\n",
       "XGBoost Model             0.888388       0.991102"
      ]
     },
     "execution_count": 212,
     "metadata": {},
     "output_type": "execute_result"
    }
   ],
   "source": [
    "sum_df.T"
   ]
  },
  {
   "cell_type": "code",
   "execution_count": null,
   "id": "d26b21b4",
   "metadata": {},
   "outputs": [],
   "source": []
  }
 ],
 "metadata": {
  "kernelspec": {
   "display_name": "Python 3.8.8 64-bit ('base': conda)",
   "language": "python",
   "name": "python388jvsc74a57bd0f07d2fcc632da3703030e1c1cbc857ccd1f31ab146341290fd4662dc4d8c5d07"
  },
  "language_info": {
   "codemirror_mode": {
    "name": "ipython",
    "version": 3
   },
   "file_extension": ".py",
   "mimetype": "text/x-python",
   "name": "python",
   "nbconvert_exporter": "python",
   "pygments_lexer": "ipython3",
   "version": "3.8.8"
  }
 },
 "nbformat": 4,
 "nbformat_minor": 5
}
